{
 "cells": [
  {
   "cell_type": "markdown",
   "id": "1b8bf41f-307f-4b89-8444-93abc8de1111",
   "metadata": {},
   "source": [
    "# Data Science Tools and Ecosystem"
   ]
  },
  {
   "cell_type": "markdown",
   "id": "ecd24a5a-c6c6-4794-a34d-75f932231b93",
   "metadata": {},
   "source": [
    "In this notebook, data science tools and ecosystems are summarized"
   ]
  },
  {
   "cell_type": "markdown",
   "id": "81055251-8eb6-483e-bae4-ea7fad89b225",
   "metadata": {},
   "source": [
    "**objectives**\n",
    "* Python\n",
    "* R\n",
    "* SQL"
   ]
  },
  {
   "cell_type": "markdown",
   "id": "a21fc0e5-579d-4202-a12a-d3ef29e7c4e6",
   "metadata": {},
   "source": [
    "Some of the common languages that data scientists use are [Python , R ,SQL]"
   ]
  },
  {
   "cell_type": "markdown",
   "id": "3c6966e4-4928-4822-adf6-5a35fe764df7",
   "metadata": {},
   "source": [
    "Some of the commonly used libraries used by Data Scientists include:"
   ]
  },
  {
   "cell_type": "code",
   "execution_count": 4,
   "id": "0bac4abf-89ad-4f4c-b304-a3f082e566d4",
   "metadata": {},
   "outputs": [
    {
     "data": {
      "text/plain": [
       "['Numpy', 'Pandas', 'Seaborn']"
      ]
     },
     "execution_count": 4,
     "metadata": {},
     "output_type": "execute_result"
    }
   ],
   "source": [
    "[\"Numpy\",\"Pandas\",\"Seaborn\"]"
   ]
  },
  {
   "cell_type": "markdown",
   "id": "8c9eea7f-f9af-460c-8cf7-55491dd7cd98",
   "metadata": {},
   "source": [
    "| Data Science Tools |\n",
    "|--------------------|\n",
    "|Jupyter|\n",
    "|R-Studio|\n",
    "|VS code|\n"
   ]
  },
  {
   "cell_type": "markdown",
   "id": "7a50ef0b-8a1f-4b2b-bbc7-267e82d5298c",
   "metadata": {},
   "source": [
    "### Below are a few examples of evaluating arithmetic expression in python"
   ]
  },
  {
   "cell_type": "code",
   "execution_count": 7,
   "id": "33328490-f890-4191-bf52-ac76232c7c46",
   "metadata": {},
   "outputs": [
    {
     "data": {
      "text/plain": [
       "17"
      ]
     },
     "execution_count": 7,
     "metadata": {},
     "output_type": "execute_result"
    }
   ],
   "source": [
    "# This is simple arithmetic expression to multiply and then add integers\n",
    "(3*4)+5"
   ]
  },
  {
   "cell_type": "code",
   "execution_count": 8,
   "id": "062a26ae-8634-4043-988f-11baaaee1010",
   "metadata": {},
   "outputs": [
    {
     "data": {
      "text/plain": [
       "3.3333333333333335"
      ]
     },
     "execution_count": 8,
     "metadata": {},
     "output_type": "execute_result"
    }
   ],
   "source": [
    "#this will convert 200 minutes to hours by dividing by 60\n",
    "200/60"
   ]
  },
  {
   "cell_type": "markdown",
   "id": "6de76211-5752-47f0-8fa5-152033c56b14",
   "metadata": {},
   "source": [
    "## Author\n",
    "Atharva f"
   ]
  },
  {
   "cell_type": "code",
   "execution_count": null,
   "id": "b0e3335d-3557-4601-af5c-e0ea3df1c813",
   "metadata": {},
   "outputs": [],
   "source": []
  }
 ],
 "metadata": {
  "kernelspec": {
   "display_name": "Python 3 (ipykernel)",
   "language": "python",
   "name": "python3"
  },
  "language_info": {
   "codemirror_mode": {
    "name": "ipython",
    "version": 3
   },
   "file_extension": ".py",
   "mimetype": "text/x-python",
   "name": "python",
   "nbconvert_exporter": "python",
   "pygments_lexer": "ipython3",
   "version": "3.12.8"
  }
 },
 "nbformat": 4,
 "nbformat_minor": 5
}
